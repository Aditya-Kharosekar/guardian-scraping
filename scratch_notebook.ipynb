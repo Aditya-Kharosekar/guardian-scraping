{
 "cells": [
  {
   "cell_type": "code",
   "execution_count": 91,
   "metadata": {},
   "outputs": [
    {
     "name": "stdout",
     "output_type": "stream",
     "text": [
      "The autoreload extension is already loaded. To reload it, use:\n",
      "  %reload_ext autoreload\n"
     ]
    }
   ],
   "source": [
    "%load_ext autoreload\n",
    "%autoreload 2"
   ]
  },
  {
   "cell_type": "code",
   "execution_count": 111,
   "metadata": {},
   "outputs": [],
   "source": [
    "import config\n",
    "import requests\n",
    "\n",
    "import numpy as np\n",
    "import pandas as pd\n",
    "from api.utils import perform_query, create_article_dicts\n",
    "from api.scraping import scrape, flatten_dict_list, store_scraping_results"
   ]
  },
  {
   "cell_type": "code",
   "execution_count": null,
   "metadata": {},
   "outputs": [],
   "source": [
    "base_url='https://content.guardianapis.com/search'\n",
    "params={\n",
    "        'api-key': config.API_KEY,\n",
    "        'page': 0,\n",
    "        #'show-blocks':'body',\n",
    "        #'show-tags': 'type',\n",
    "        'page-size':3,\n",
    "        #'q': \"football\"\n",
    "    }\n",
    "response2 = requests.get(\n",
    "        url=base_url,\n",
    "        params = params\n",
    "    )\n",
    "\n",
    "response2.json()['response']"
   ]
  },
  {
   "cell_type": "markdown",
   "metadata": {},
   "source": [
    "# Scratch"
   ]
  },
  {
   "cell_type": "code",
   "execution_count": 115,
   "metadata": {},
   "outputs": [],
   "source": [
    "params={\n",
    "        'show-blocks':'body',\n",
    "        'page-size':config.PAGE_SIZE,\n",
    "        'from-date': \"2022-06-01\",\n",
    "        'to-date': \"2022-06-30\"\n",
    "    }\n",
    "\n",
    "# articles = perform_query(\n",
    "#     base_url=,\n",
    "#     params = params\n",
    "# )\n",
    "\n",
    "scraping_results = scrape(\n",
    "    n_items_requested = 50,\n",
    "    base_url = 'https://content.guardianapis.com/search',\n",
    "    params = params)"
   ]
  },
  {
   "cell_type": "code",
   "execution_count": 116,
   "metadata": {},
   "outputs": [],
   "source": [
    "flattened = flatten_dict_list(scraping_results)"
   ]
  },
  {
   "cell_type": "code",
   "execution_count": 117,
   "metadata": {},
   "outputs": [
    {
     "data": {
      "text/plain": [
       "45"
      ]
     },
     "execution_count": 117,
     "metadata": {},
     "output_type": "execute_result"
    }
   ],
   "source": [
    "len(flattened)"
   ]
  },
  {
   "cell_type": "code",
   "execution_count": 127,
   "metadata": {},
   "outputs": [
    {
     "name": "stdout",
     "output_type": "stream",
     "text": [
      "C:\\Users\\adity\\Git Repositories\\guardian-scraping\\guardian-scraping\\data\\articles_2022-06-01_to_2022-06-30.pkl\n"
     ]
    }
   ],
   "source": [
    "store_scraping_results(flattened, params['from-date'], params['to-date'])"
   ]
  },
  {
   "cell_type": "code",
   "execution_count": 131,
   "metadata": {},
   "outputs": [],
   "source": [
    "test_df = pd.read_pickle(\"C:\\\\Users\\\\adity\\\\Git Repositories\\\\guardian-scraping\\\\guardian-scraping\\\\data\\\\articles_2022-06-01_to_2022-06-30.pkl\")"
   ]
  },
  {
   "cell_type": "code",
   "execution_count": 132,
   "metadata": {},
   "outputs": [
    {
     "data": {
      "text/html": [
       "<div>\n",
       "<style scoped>\n",
       "    .dataframe tbody tr th:only-of-type {\n",
       "        vertical-align: middle;\n",
       "    }\n",
       "\n",
       "    .dataframe tbody tr th {\n",
       "        vertical-align: top;\n",
       "    }\n",
       "\n",
       "    .dataframe thead th {\n",
       "        text-align: right;\n",
       "    }\n",
       "</style>\n",
       "<table border=\"1\" class=\"dataframe\">\n",
       "  <thead>\n",
       "    <tr style=\"text-align: right;\">\n",
       "      <th></th>\n",
       "      <th>id</th>\n",
       "      <th>sectionName</th>\n",
       "      <th>webTitle</th>\n",
       "      <th>webUrl</th>\n",
       "      <th>bodyContent</th>\n",
       "      <th>webPublicationDate</th>\n",
       "    </tr>\n",
       "  </thead>\n",
       "  <tbody>\n",
       "    <tr>\n",
       "      <th>0</th>\n",
       "      <td>sport/2022/jun/26/eoin-morgan-ponders-internat...</td>\n",
       "      <td>Sport</td>\n",
       "      <td>Eoin Morgan ponders international retirement a...</td>\n",
       "      <td>https://www.theguardian.com/sport/2022/jun/26/...</td>\n",
       "      <td>Eoin Morgan could be set to announce his retir...</td>\n",
       "      <td>2022-06-26T21:00:53Z</td>\n",
       "    </tr>\n",
       "    <tr>\n",
       "      <th>1</th>\n",
       "      <td>australia-news/2022/jun/27/morning-mail-fury-o...</td>\n",
       "      <td>Australia news</td>\n",
       "      <td>Morning mail: fury over US supreme court rulin...</td>\n",
       "      <td>https://www.theguardian.com/australia-news/202...</td>\n",
       "      <td>Good morning. Anger has flared across the US a...</td>\n",
       "      <td>2022-06-26T20:57:45Z</td>\n",
       "    </tr>\n",
       "    <tr>\n",
       "      <th>2</th>\n",
       "      <td>us-news/2022/jun/26/us-companies-pay-travel-co...</td>\n",
       "      <td>US news</td>\n",
       "      <td>Many US companies move to pay travel costs for...</td>\n",
       "      <td>https://www.theguardian.com/us-news/2022/jun/2...</td>\n",
       "      <td>Many US corporate giants have moved swiftly to...</td>\n",
       "      <td>2022-06-26T20:28:54Z</td>\n",
       "    </tr>\n",
       "    <tr>\n",
       "      <th>3</th>\n",
       "      <td>politics/2022/jun/26/labour-heathrow-airline-s...</td>\n",
       "      <td>Politics</td>\n",
       "      <td>Union accuses Labour of ‘direct attack’ on air...</td>\n",
       "      <td>https://www.theguardian.com/politics/2022/jun/...</td>\n",
       "      <td>David Lammy sparked a fresh row with a key tra...</td>\n",
       "      <td>2022-06-26T20:14:22Z</td>\n",
       "    </tr>\n",
       "    <tr>\n",
       "      <th>4</th>\n",
       "      <td>sport/blog/2022/jun/26/that-mitchell-and-blund...</td>\n",
       "      <td>Sport</td>\n",
       "      <td>That Mitchell and Blundell look has been a fin...</td>\n",
       "      <td>https://www.theguardian.com/sport/blog/2022/ju...</td>\n",
       "      <td>Farewell then, Daryl Mitchell and Tom Blundell...</td>\n",
       "      <td>2022-06-26T20:09:38Z</td>\n",
       "    </tr>\n",
       "  </tbody>\n",
       "</table>\n",
       "</div>"
      ],
      "text/plain": [
       "                                                  id     sectionName  \\\n",
       "0  sport/2022/jun/26/eoin-morgan-ponders-internat...           Sport   \n",
       "1  australia-news/2022/jun/27/morning-mail-fury-o...  Australia news   \n",
       "2  us-news/2022/jun/26/us-companies-pay-travel-co...         US news   \n",
       "3  politics/2022/jun/26/labour-heathrow-airline-s...        Politics   \n",
       "4  sport/blog/2022/jun/26/that-mitchell-and-blund...           Sport   \n",
       "\n",
       "                                            webTitle  \\\n",
       "0  Eoin Morgan ponders international retirement a...   \n",
       "1  Morning mail: fury over US supreme court rulin...   \n",
       "2  Many US companies move to pay travel costs for...   \n",
       "3  Union accuses Labour of ‘direct attack’ on air...   \n",
       "4  That Mitchell and Blundell look has been a fin...   \n",
       "\n",
       "                                              webUrl  \\\n",
       "0  https://www.theguardian.com/sport/2022/jun/26/...   \n",
       "1  https://www.theguardian.com/australia-news/202...   \n",
       "2  https://www.theguardian.com/us-news/2022/jun/2...   \n",
       "3  https://www.theguardian.com/politics/2022/jun/...   \n",
       "4  https://www.theguardian.com/sport/blog/2022/ju...   \n",
       "\n",
       "                                         bodyContent    webPublicationDate  \n",
       "0  Eoin Morgan could be set to announce his retir...  2022-06-26T21:00:53Z  \n",
       "1  Good morning. Anger has flared across the US a...  2022-06-26T20:57:45Z  \n",
       "2  Many US corporate giants have moved swiftly to...  2022-06-26T20:28:54Z  \n",
       "3  David Lammy sparked a fresh row with a key tra...  2022-06-26T20:14:22Z  \n",
       "4  Farewell then, Daryl Mitchell and Tom Blundell...  2022-06-26T20:09:38Z  "
      ]
     },
     "execution_count": 132,
     "metadata": {},
     "output_type": "execute_result"
    }
   ],
   "source": [
    "test_df.head()"
   ]
  },
  {
   "cell_type": "code",
   "execution_count": null,
   "metadata": {},
   "outputs": [],
   "source": []
  }
 ],
 "metadata": {
  "interpreter": {
   "hash": "abb8d54cb6686581c1af49a658d1ede3f0b90dfbb057eaa3c4deb6e6b01fd843"
  },
  "kernelspec": {
   "display_name": "Python 3.10.4 ('pythonProject')",
   "language": "python",
   "name": "python3"
  },
  "language_info": {
   "codemirror_mode": {
    "name": "ipython",
    "version": 3
   },
   "file_extension": ".py",
   "mimetype": "text/x-python",
   "name": "python",
   "nbconvert_exporter": "python",
   "pygments_lexer": "ipython3",
   "version": "3.10.4"
  },
  "orig_nbformat": 4
 },
 "nbformat": 4,
 "nbformat_minor": 2
}
