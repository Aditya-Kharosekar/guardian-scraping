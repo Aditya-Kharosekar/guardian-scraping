{
 "cells": [
  {
   "cell_type": "code",
   "execution_count": 1,
   "metadata": {},
   "outputs": [],
   "source": [
    "%load_ext autoreload\n",
    "%autoreload 2"
   ]
  },
  {
   "cell_type": "code",
   "execution_count": 79,
   "metadata": {},
   "outputs": [],
   "source": [
    "import config\n",
    "import requests\n",
    "\n",
    "import numpy as np\n",
    "import pandas as pd\n",
    "from api.utils import *\n",
    "from api.scraping import *"
   ]
  },
  {
   "cell_type": "code",
   "execution_count": null,
   "metadata": {},
   "outputs": [],
   "source": [
    "base_url='https://content.guardianapis.com/search'\n",
    "params={\n",
    "        'api-key': config.API_KEY,\n",
    "        'page': 0,\n",
    "        #'show-blocks':'body',\n",
    "        #'show-tags': 'type',\n",
    "        'page-size':3,\n",
    "        #'q': \"football\"\n",
    "    }\n",
    "response2 = requests.get(\n",
    "        url=base_url,\n",
    "        params = params\n",
    "    )\n",
    "\n",
    "response2.json()['response']"
   ]
  },
  {
   "cell_type": "markdown",
   "metadata": {},
   "source": [
    "# Scratch"
   ]
  },
  {
   "cell_type": "code",
   "execution_count": 100,
   "metadata": {},
   "outputs": [
    {
     "name": "stdout",
     "output_type": "stream",
     "text": [
      "Current range:  2018-11-01 2018-11-30\n",
      "Current range:  2018-12-01 2018-12-31\n"
     ]
    }
   ],
   "source": [
    "params={\n",
    "        'show-blocks':'body',\n",
    "        'page-size':config.PAGE_SIZE,\n",
    "    }\n",
    "scrape('2018-11', '2019-01', 10, base_url = 'https://content.guardianapis.com/search', base_params=params)"
   ]
  },
  {
   "cell_type": "code",
   "execution_count": null,
   "metadata": {},
   "outputs": [],
   "source": []
  }
 ],
 "metadata": {
  "interpreter": {
   "hash": "abb8d54cb6686581c1af49a658d1ede3f0b90dfbb057eaa3c4deb6e6b01fd843"
  },
  "kernelspec": {
   "display_name": "Python 3.10.4 ('pythonProject')",
   "language": "python",
   "name": "python3"
  },
  "language_info": {
   "codemirror_mode": {
    "name": "ipython",
    "version": 3
   },
   "file_extension": ".py",
   "mimetype": "text/x-python",
   "name": "python",
   "nbconvert_exporter": "python",
   "pygments_lexer": "ipython3",
   "version": "3.10.4"
  },
  "orig_nbformat": 4
 },
 "nbformat": 4,
 "nbformat_minor": 2
}
