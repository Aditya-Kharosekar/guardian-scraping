{
 "cells": [
  {
   "cell_type": "code",
   "execution_count": 1,
   "metadata": {},
   "outputs": [],
   "source": [
    "%load_ext autoreload\n",
    "%autoreload 2"
   ]
  },
  {
   "cell_type": "code",
   "execution_count": 2,
   "metadata": {},
   "outputs": [],
   "source": [
    "import config\n",
    "import requests\n",
    "\n",
    "import numpy as np\n",
    "import pandas as pd\n",
    "from api.utils import *\n",
    "from api.scraping import *\n",
    "import glob"
   ]
  },
  {
   "cell_type": "code",
   "execution_count": null,
   "metadata": {},
   "outputs": [],
   "source": [
    "base_url='https://content.guardianapis.com/search'\n",
    "params={\n",
    "        'api-key': config.API_KEY,\n",
    "        'page': 0,\n",
    "        #'show-blocks':'body',\n",
    "        #'show-tags': 'type',\n",
    "        'page-size':3,\n",
    "        #'q': \"football\"\n",
    "    }\n",
    "response2 = requests.get(\n",
    "        url=base_url,\n",
    "        params = params\n",
    "    )\n",
    "\n",
    "response2.json()['response']"
   ]
  },
  {
   "cell_type": "markdown",
   "metadata": {},
   "source": [
    "# Scratch"
   ]
  },
  {
   "cell_type": "code",
   "execution_count": 4,
   "metadata": {},
   "outputs": [
    {
     "name": "stdout",
     "output_type": "stream",
     "text": [
      "Current time range:  2018-01-01 2018-01-31\n",
      "Current time range:  2018-02-01 2018-02-28\n",
      "Current time range:  2018-03-01 2018-03-31\n",
      "{'id': 'stage/2018/mar/23/maria-bamford-review-leicester-square-theatre-london', 'type': 'article', 'sectionId': 'stage', 'sectionName': 'Stage', 'webPublicationDate': '2018-03-23T12:50:40Z', 'webTitle': 'Maria Bamford review – hard-won hilarity redefines quirky', 'webUrl': 'https://www.theguardian.com/stage/2018/mar/23/maria-bamford-review-leicester-square-theatre-london', 'apiUrl': 'https://content.guardianapis.com/stage/2018/mar/23/maria-bamford-review-leicester-square-theatre-london', 'blocks': {'body': [], 'totalBodyBlocks': 0}, 'isHosted': False, 'pillarId': 'pillar/arts', 'pillarName': 'Arts'}\n",
      "Current time range:  2018-04-01 2018-04-30\n",
      "Current time range:  2018-05-01 2018-05-31\n",
      "Current time range:  2018-06-01 2018-06-30\n",
      "Current time range:  2018-07-01 2018-07-31\n",
      "Current time range:  2018-08-01 2018-08-31\n",
      "Current time range:  2018-09-01 2018-09-30\n",
      "Current time range:  2018-10-01 2018-10-31\n",
      "Current time range:  2018-11-01 2018-11-30\n",
      "Current time range:  2018-12-01 2018-12-31\n"
     ]
    }
   ],
   "source": [
    "params={\n",
    "        'show-blocks':'body',\n",
    "        'page-size':config.PAGE_SIZE,\n",
    "    }\n",
    "scrape(\n",
    "    '2018-01', \n",
    "    '2019-01', \n",
    "    articles_per_month=2000, \n",
    "    base_url = 'https://content.guardianapis.com/search', \n",
    "    base_params=params)"
   ]
  },
  {
   "cell_type": "code",
   "execution_count": 24,
   "metadata": {},
   "outputs": [
    {
     "data": {
      "text/plain": [
       "(1925, 6)"
      ]
     },
     "execution_count": 24,
     "metadata": {},
     "output_type": "execute_result"
    }
   ],
   "source": [
    "test_df = pd.read_pickle(\"C:\\\\Users\\\\adity\\\\Git Repositories\\\\guardian-scraping\\\\guardian-scraping\\\\data\\\\monthly\\\\articles_2017-10-01_to_2017-10-31.pkl\")\n",
    "test_df.shape"
   ]
  },
  {
   "cell_type": "code",
   "execution_count": null,
   "metadata": {},
   "outputs": [],
   "source": []
  }
 ],
 "metadata": {
  "interpreter": {
   "hash": "abb8d54cb6686581c1af49a658d1ede3f0b90dfbb057eaa3c4deb6e6b01fd843"
  },
  "kernelspec": {
   "display_name": "Python 3.10.4 ('pythonProject')",
   "language": "python",
   "name": "python3"
  },
  "language_info": {
   "codemirror_mode": {
    "name": "ipython",
    "version": 3
   },
   "file_extension": ".py",
   "mimetype": "text/x-python",
   "name": "python",
   "nbconvert_exporter": "python",
   "pygments_lexer": "ipython3",
   "version": "3.10.4"
  },
  "orig_nbformat": 4
 },
 "nbformat": 4,
 "nbformat_minor": 2
}
