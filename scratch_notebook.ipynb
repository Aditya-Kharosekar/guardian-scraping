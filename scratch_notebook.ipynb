{
 "cells": [
  {
   "cell_type": "code",
   "execution_count": 1,
   "metadata": {},
   "outputs": [],
   "source": [
    "%load_ext autoreload\n",
    "%autoreload 2"
   ]
  },
  {
   "cell_type": "code",
   "execution_count": 2,
   "metadata": {},
   "outputs": [],
   "source": [
    "import config\n",
    "import requests\n",
    "\n",
    "import numpy as np\n",
    "import pandas as pd\n",
    "from api.utils import *\n",
    "from api.scraping import *\n",
    "import glob"
   ]
  },
  {
   "cell_type": "code",
   "execution_count": 6,
   "metadata": {},
   "outputs": [
    {
     "name": "stdout",
     "output_type": "stream",
     "text": [
      "Current time range:  2022-01-01 2022-01-31\n",
      "Current time range:  2022-02-01 2022-02-28\n",
      "Current time range:  2022-03-01 2022-03-31\n",
      "Current time range:  2022-04-01 2022-04-30\n",
      "Current time range:  2022-05-01 2022-05-31\n",
      "Current time range:  2022-06-01 2022-06-30\n"
     ]
    }
   ],
   "source": [
    "params={\n",
    "        'show-blocks':'body',\n",
    "        'page-size':config.PAGE_SIZE,\n",
    "    }\n",
    "scrape(\n",
    "    '2022-01', \n",
    "    '2022-07', \n",
    "    articles_per_month=2000, \n",
    "    base_url = 'https://content.guardianapis.com/search', \n",
    "    base_params=params)"
   ]
  },
  {
   "cell_type": "code",
   "execution_count": 7,
   "metadata": {},
   "outputs": [],
   "source": [
    "combine_pickles_into_master_dataframe()"
   ]
  },
  {
   "cell_type": "code",
   "execution_count": 11,
   "metadata": {},
   "outputs": [],
   "source": [
    "test_df = pd.read_pickle(config.DATA_PATH + f\"\\\\combined\\\\guardian_articles.pkl\")\n",
    "test_df.to_csv(config.DATA_PATH + f\"\\\\combined\\\\guardian_articles.csv\")"
   ]
  },
  {
   "cell_type": "code",
   "execution_count": null,
   "metadata": {},
   "outputs": [],
   "source": []
  }
 ],
 "metadata": {
  "interpreter": {
   "hash": "abb8d54cb6686581c1af49a658d1ede3f0b90dfbb057eaa3c4deb6e6b01fd843"
  },
  "kernelspec": {
   "display_name": "Python 3.10.4 ('pythonProject')",
   "language": "python",
   "name": "python3"
  },
  "language_info": {
   "codemirror_mode": {
    "name": "ipython",
    "version": 3
   },
   "file_extension": ".py",
   "mimetype": "text/x-python",
   "name": "python",
   "nbconvert_exporter": "python",
   "pygments_lexer": "ipython3",
   "version": "3.10.4"
  },
  "orig_nbformat": 4
 },
 "nbformat": 4,
 "nbformat_minor": 2
}
